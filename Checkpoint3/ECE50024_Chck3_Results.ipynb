{
  "nbformat": 4,
  "nbformat_minor": 0,
  "metadata": {
    "colab": {
      "provenance": [],
      "machine_shape": "hm",
      "gpuType": "V100"
    },
    "kernelspec": {
      "name": "python3",
      "display_name": "Python 3"
    },
    "language_info": {
      "name": "python"
    },
    "accelerator": "GPU"
  },
  "cells": [
    {
      "cell_type": "code",
      "source": [
        "pip install pytorch-msssim"
      ],
      "metadata": {
        "colab": {
          "base_uri": "https://localhost:8080/"
        },
        "id": "jKKiglq7TFvt",
        "outputId": "2ad6fe22-042d-4dcc-9576-28746dd5b3cd"
      },
      "execution_count": null,
      "outputs": [
        {
          "output_type": "stream",
          "name": "stdout",
          "text": [
            "Collecting pytorch-msssim\n",
            "  Downloading pytorch_msssim-1.0.0-py3-none-any.whl (7.7 kB)\n",
            "Requirement already satisfied: torch in /usr/local/lib/python3.10/dist-packages (from pytorch-msssim) (2.1.0+cu121)\n",
            "Requirement already satisfied: filelock in /usr/local/lib/python3.10/dist-packages (from torch->pytorch-msssim) (3.13.1)\n",
            "Requirement already satisfied: typing-extensions in /usr/local/lib/python3.10/dist-packages (from torch->pytorch-msssim) (4.10.0)\n",
            "Requirement already satisfied: sympy in /usr/local/lib/python3.10/dist-packages (from torch->pytorch-msssim) (1.12)\n",
            "Requirement already satisfied: networkx in /usr/local/lib/python3.10/dist-packages (from torch->pytorch-msssim) (3.2.1)\n",
            "Requirement already satisfied: jinja2 in /usr/local/lib/python3.10/dist-packages (from torch->pytorch-msssim) (3.1.3)\n",
            "Requirement already satisfied: fsspec in /usr/local/lib/python3.10/dist-packages (from torch->pytorch-msssim) (2023.6.0)\n",
            "Requirement already satisfied: triton==2.1.0 in /usr/local/lib/python3.10/dist-packages (from torch->pytorch-msssim) (2.1.0)\n",
            "Requirement already satisfied: MarkupSafe>=2.0 in /usr/local/lib/python3.10/dist-packages (from jinja2->torch->pytorch-msssim) (2.1.5)\n",
            "Requirement already satisfied: mpmath>=0.19 in /usr/local/lib/python3.10/dist-packages (from sympy->torch->pytorch-msssim) (1.3.0)\n",
            "Installing collected packages: pytorch-msssim\n",
            "Successfully installed pytorch-msssim-1.0.0\n"
          ]
        }
      ]
    },
    {
      "cell_type": "code",
      "execution_count": null,
      "metadata": {
        "id": "rsHh0HpIH4BG"
      },
      "outputs": [],
      "source": [
        "#Importing the libraries\n",
        "import torch\n",
        "import torch.nn as nn\n",
        "import torch.nn.functional as F\n",
        "\n",
        "from torch.utils.data import Dataset,DataLoader\n",
        "from torchvision import models,datasets,transforms\n",
        "\n",
        "from tqdm import tqdm\n",
        "import os\n",
        "from PIL import Image\n",
        "import matplotlib.pyplot as plt\n",
        "import math\n",
        "import random\n",
        "from pytorch_msssim import ssim"
      ]
    },
    {
      "cell_type": "code",
      "source": [
        "#Checking if a GPU with CUDA is available\n",
        "device = torch.device(\"cuda\" if torch.cuda.is_available() else \"cpu\")\n",
        "device"
      ],
      "metadata": {
        "colab": {
          "base_uri": "https://localhost:8080/"
        },
        "id": "709mtcVnH-Ug",
        "outputId": "d30c8df0-c038-4813-f1d2-c11c867c0f7a"
      },
      "execution_count": null,
      "outputs": [
        {
          "output_type": "execute_result",
          "data": {
            "text/plain": [
              "device(type='cuda')"
            ]
          },
          "metadata": {},
          "execution_count": 3
        }
      ]
    },
    {
      "cell_type": "code",
      "source": [
        "#Creating a custom dataset class that generates the noisy counterpart of the clean image and returns both of them\n",
        "class CustomDataset(Dataset):\n",
        "  def __init__(self,train_flag,sigma):\n",
        "    super().__init__()\n",
        "    #Defining the transforms for the train and test datasets\n",
        "    train_transform = transforms.Compose([transforms.RandomRotation(45),\n",
        "                                              transforms.RandomHorizontalFlip(.5),\n",
        "                                              transforms.RandomVerticalFlip(.5),\n",
        "                                              transforms.ToTensor()\n",
        "                                              ])\n",
        "\n",
        "    test_transform = transforms.Compose([transforms.ToTensor()])\n",
        "\n",
        "    #Downloading the train and test datasets\n",
        "    if train_flag:\n",
        "      self.dataset = datasets.MNIST(root=\"\", train = True, download=True, transform=train_transform)\n",
        "\n",
        "    else:\n",
        "      self.dataset = datasets.MNIST(root=\"\", train = False, download=True, transform=test_transform)\n",
        "\n",
        "    self.sigma = sigma\n",
        "\n",
        "  def __len__(self):\n",
        "    return len(self.dataset)\n",
        "\n",
        "  def __getitem__(self, index):\n",
        "    clean_img, _ = self.dataset[index]\n",
        "    #Generating the noisy image\n",
        "    noisy_img = (torch.randn(clean_img.shape)*(self.sigma/255.))+clean_img\n",
        "    return clean_img, noisy_img\n",
        "\n"
      ],
      "metadata": {
        "id": "bzxI6U_oH_8P"
      },
      "execution_count": null,
      "outputs": []
    },
    {
      "cell_type": "code",
      "source": [
        "#Defining a Block of the DnCNN\n",
        "class Block(nn.Module):\n",
        "  def __init__(self,k=3,p=1,c=64):\n",
        "    super().__init__()\n",
        "    self.conv = nn.Conv2d(in_channels=c,out_channels=c,kernel_size=k,padding=p,bias=False) #same padding convolution\n",
        "    self.norm = nn.BatchNorm2d(c) #batch normalization\n",
        "    self.relu = nn.ReLU(inplace=True) #activation function\n",
        "\n",
        "  def forward(self,x):\n",
        "    x = self.conv(x)\n",
        "    x = self.norm(x)\n",
        "    x = self.relu(x)\n",
        "    return x\n"
      ],
      "metadata": {
        "id": "HTa35M_aIBpd"
      },
      "execution_count": null,
      "outputs": []
    },
    {
      "cell_type": "code",
      "source": [
        "#Defining the DnCNN model\n",
        "class DCNN(nn.Module):\n",
        "  def __init__(self,k=3,p=1,c=64,l=17,in_c=1):\n",
        "    super().__init__()\n",
        "    layers = [nn.Conv2d(in_channels=in_c,out_channels=c,kernel_size=k,padding=p,bias=False), #First same padding convolution layer\n",
        "              nn.ReLU(inplace=True)]\n",
        "    layers.extend([Block(k,p,c) for _ in range(l-2)]) #Adding all the \"Blocks\" to the model\n",
        "    layers.append(nn.Conv2d(in_channels=c,out_channels=in_c,kernel_size=k,padding=p,bias=False)) #Last same padding convolution layer\n",
        "\n",
        "    self.all = nn.Sequential(*layers)\n",
        "\n",
        "  def forward(self,x):\n",
        "    out = self.all(x)\n",
        "    return x-out\n"
      ],
      "metadata": {
        "id": "VRbcOOxOIDTk"
      },
      "execution_count": null,
      "outputs": []
    },
    {
      "cell_type": "code",
      "source": [
        "def test_baseline(criterion,device,test_loader):\n",
        "  \"\"\"\n",
        "  criterion is the function used to compute PSNR\n",
        "  device is either CPU or GPU(cuda)\n",
        "  test_loader is the DataLoader containing the test dataset\n",
        "  \"\"\"\n",
        "\n",
        "  loop = tqdm(test_loader)\n",
        "  total_mse = []\n",
        "  total_ssim = []\n",
        "\n",
        "  with torch.no_grad():\n",
        "    for i,(clean,noisy) in enumerate(loop):\n",
        "      clean,noisy = clean.to(device).float(), noisy.to(device).float()\n",
        "\n",
        "      clean_pred = torch.clamp(noisy,min=0.0,max=1.0)\n",
        "      loss = (criterion(clean_pred,clean).mean(axis=(1,2,3))).tolist()\n",
        "      total_mse.extend(loss)\n",
        "\n",
        "      ssim_val = ssim(clean,clean_pred, data_range=1, size_average=False).tolist() #of shape of batch size\n",
        "      total_ssim.extend(ssim_val)\n",
        "\n",
        "  total_mse_tensor = torch.tensor(total_mse)\n",
        "  psnr = (-10*torch.log10(total_mse_tensor)).mean()\n",
        "\n",
        "  ssim_val = (torch.tensor(total_ssim)).mean()\n",
        "\n",
        "  print(f\"\\n The PSNR is {psnr} and the SSIM is {ssim_val}\")"
      ],
      "metadata": {
        "id": "Jc-tBIlYN8Zg"
      },
      "execution_count": null,
      "outputs": []
    },
    {
      "cell_type": "code",
      "source": [
        "def test_supervised(criterion,model,device,test_loader):\n",
        "  \"\"\"\n",
        "  criterion is the function used to compute PSNR\n",
        "  model is the trained supervised DnCNN model\n",
        "  device is either CPU or GPU(cuda)\n",
        "  test_loader is the DataLoader containing the test dataset\n",
        "  \"\"\"\n",
        "  model.eval()\n",
        "  loop = tqdm(test_loader) #Used to visualize the progress in testing\n",
        "  total_mse = []\n",
        "  total_ssim = []\n",
        "\n",
        "  with torch.no_grad():\n",
        "    for i,(clean,noisy) in enumerate(loop):\n",
        "      clean,noisy = clean.to(device).float(), noisy.to(device).float()\n",
        "      out = model(noisy)\n",
        "\n",
        "      clean_pred = torch.clamp(out,min=0.0,max=1.0)\n",
        "\n",
        "      #Computing PSNR\n",
        "      loss = (criterion(clean_pred,clean).mean(axis=(1,2,3))).tolist()\n",
        "      total_mse.extend(loss)\n",
        "\n",
        "      #Computing SSIM\n",
        "      ssim_val = ssim(clean,clean_pred, data_range=1, size_average=False).tolist() #of shape of batch size\n",
        "      total_ssim.extend(ssim_val)\n",
        "\n",
        "  total_mse_tensor = torch.tensor(total_mse)\n",
        "  psnr = (-10*torch.log10(total_mse_tensor)).mean()\n",
        "\n",
        "  ssim_val = (torch.tensor(total_ssim)).mean()\n",
        "\n",
        "  print(f\"\\n The PSNR is {psnr} and the SSIM is {ssim_val}\")\n"
      ],
      "metadata": {
        "id": "svcLC5e9Io8d"
      },
      "execution_count": null,
      "outputs": []
    },
    {
      "cell_type": "code",
      "source": [
        "def test_unsupervised(criterion,model,device,test_loader,alpha,sigma,T):\n",
        "  \"\"\"\n",
        "  criterion is the function used to compute PSNR\n",
        "  model is the trained unsupervised denoiser model\n",
        "  device is either CPU or GPU(cuda)\n",
        "  test_loader is the DataLoader containing the test dataset\n",
        "  sigma is the noise level\n",
        "  alpha is the constant of 0.5\n",
        "  T is the number of forward processes averaged to reduce the effect of recorruption\n",
        "  \"\"\"\n",
        "\n",
        "  model.eval()\n",
        "  loop = tqdm(test_loader)  #Used to visualize the progress in testing\n",
        "  total_mse = []\n",
        "  total_ssim = []\n",
        "\n",
        "  with torch.no_grad():\n",
        "    for i,(clean,noisy) in enumerate(loop):\n",
        "      clean,noisy = clean.to(device).float(), noisy.to(device).float()\n",
        "\n",
        "      out = torch.zeros(clean.shape).to(device)\n",
        "      for _ in range(T):\n",
        "        noise = (torch.randn(noisy.shape)*(sigma/255.)).to(device)\n",
        "        noisy_main = noisy+alpha*noise\n",
        "        out += model(noisy_main)\n",
        "\n",
        "      clean_pred = torch.clamp(out/T,min=0.0,max=1.0)\n",
        "\n",
        "      #Computing PSNR\n",
        "      loss = (criterion(clean_pred,clean).mean(axis=(1,2,3))).tolist()\n",
        "      total_mse.extend(loss)\n",
        "      #Computing SSIM\n",
        "      ssim_val = ssim(clean,clean_pred, data_range=1, size_average=False).tolist() #of shape of batch size\n",
        "      total_ssim.extend(ssim_val)\n",
        "\n",
        "  total_mse_tensor = torch.tensor(total_mse)\n",
        "  psnr = (-10*torch.log10(total_mse_tensor)).mean()\n",
        "\n",
        "  ssim_val = (torch.tensor(total_ssim)).mean()\n",
        "\n",
        "  print(f\"\\n The PSNR is {psnr} and the SSIM is {ssim_val}\")"
      ],
      "metadata": {
        "id": "Ar8mFBfUXT_4"
      },
      "execution_count": null,
      "outputs": []
    },
    {
      "cell_type": "code",
      "source": [
        "def display(test_set,index,model_sup,model_unsup,alpha,sigma,T):\n",
        "  \"\"\"\n",
        "  test_set is the contains all the images of the test set\n",
        "  index is a number to select an image from the test set\n",
        "  model_sup is the trained supervised denoiser\n",
        "  model_unsup is the trained unsupervised (R2R) denoiser\n",
        "  alpha is a number\n",
        "  sigma is the noise level\n",
        "  T is the number of times the noisy image is passed through the unsupervised denoiser to generate clean image\n",
        "\n",
        "  \"\"\"\n",
        "  clean, noisy = test_set[index]\n",
        "  clean, noisy = clean.to(device), noisy.to(device)\n",
        "\n",
        "  #For supervised Denoising\n",
        "  model_sup.eval()\n",
        "  out_sup = model_sup(noisy.unsqueeze(0).to(device))\n",
        "\n",
        "  clean_pred_sup = torch.clamp(out_sup,min=0.0,max=1.0)\n",
        "\n",
        "  #For unsupervised Denoising\n",
        "  model_unsup.eval()\n",
        "  out_unsup = torch.zeros(noisy.shape).unsqueeze(0).to(device)\n",
        "\n",
        "  with torch.no_grad():\n",
        "    for _ in range(T):\n",
        "      noise = (torch.randn(noisy.shape)*(sigma/255.)).to(device)\n",
        "      noisy_main = noisy+alpha*noise\n",
        "      out_unsup += model_unsup(noisy_main.unsqueeze(0))\n",
        "\n",
        "  clean_pred_unsup = torch.clamp(out_unsup/T,min=0.0,max=1.0)\n",
        "\n",
        "  fig,axes = plt.subplots(nrows=1, ncols=4,figsize=(20,10))\n",
        "\n",
        "  axes[0].imshow(clean.cpu().squeeze(),cmap=\"gray\")\n",
        "  axes[0].axis(\"off\")\n",
        "  axes[0].set_title(\"Ground Truth Clean Image\")\n",
        "\n",
        "  axes[1].imshow(noisy.cpu().squeeze(),cmap=\"gray\")\n",
        "  axes[1].axis(\"off\")\n",
        "  axes[1].set_title(\"Noisy Image\")\n",
        "\n",
        "  axes[2].imshow(clean_pred_sup.cpu().squeeze().detach(),cmap=\"gray\")\n",
        "  axes[2].axis(\"off\")\n",
        "  axes[2].set_title(\"Supervised Denoised Image\")\n",
        "\n",
        "  axes[3].imshow(clean_pred_unsup.cpu().squeeze().detach(),cmap=\"gray\")\n",
        "  axes[3].axis(\"off\")\n",
        "  axes[3].set_title(\"Unsupervised Denoised Image\")\n",
        "\n",
        "  plt.show()"
      ],
      "metadata": {
        "id": "DexvJN8FZCUD"
      },
      "execution_count": null,
      "outputs": []
    },
    {
      "cell_type": "code",
      "source": [
        "criterion_test = nn.MSELoss(reduce=False)"
      ],
      "metadata": {
        "colab": {
          "base_uri": "https://localhost:8080/"
        },
        "id": "kx2SVP1KW0MA",
        "outputId": "23d89749-78e7-4ce3-ab45-845bf2884b9b"
      },
      "execution_count": null,
      "outputs": [
        {
          "output_type": "stream",
          "name": "stderr",
          "text": [
            "/usr/local/lib/python3.10/dist-packages/torch/nn/_reduction.py:42: UserWarning: size_average and reduce args will be deprecated, please use reduction='none' instead.\n",
            "  warnings.warn(warning.format(ret))\n"
          ]
        }
      ]
    },
    {
      "cell_type": "code",
      "source": [
        "#Loading all the supervised models\n",
        "model_sup_10 = DCNN().to(device)\n",
        "model_sup_10.load_state_dict(torch.load(\"/content/Supervised4_35.99_10.pt\"))\n",
        "\n",
        "model_sup_25 = DCNN().to(device)\n",
        "model_sup_25.load_state_dict(torch.load(\"/content/Supervised3_29.84_25.pt\"))\n",
        "\n",
        "model_sup_50 = DCNN().to(device)\n",
        "model_sup_50.load_state_dict(torch.load(\"/content/Supervised2_25.67_50.pt\"))"
      ],
      "metadata": {
        "colab": {
          "base_uri": "https://localhost:8080/"
        },
        "id": "LoxIvVpoIEth",
        "outputId": "b2abe7a9-dcd7-4baf-a23e-7f55ea4ec415"
      },
      "execution_count": null,
      "outputs": [
        {
          "output_type": "execute_result",
          "data": {
            "text/plain": [
              "<All keys matched successfully>"
            ]
          },
          "metadata": {},
          "execution_count": 11
        }
      ]
    },
    {
      "cell_type": "code",
      "source": [
        "#Loading all the unsupervised models\n",
        "model_unsup_10 = DCNN().to(device)\n",
        "model_unsup_10.load_state_dict(torch.load(\"/content/Unsupervised4_35.98_10.pt\"))\n",
        "\n",
        "model_unsup_25 = DCNN().to(device)\n",
        "model_unsup_25.load_state_dict(torch.load(\"/content/Unsupervised4_29.96_25.pt\"))\n",
        "\n",
        "model_unsup_50 = DCNN().to(device)\n",
        "model_unsup_50.load_state_dict(torch.load(\"/content/Unsupervised3_25.42_50.pt\"))"
      ],
      "metadata": {
        "colab": {
          "base_uri": "https://localhost:8080/"
        },
        "id": "vpUMjMExXkik",
        "outputId": "0a5d944b-0e94-4ee4-c629-7b8d37518872"
      },
      "execution_count": null,
      "outputs": [
        {
          "output_type": "execute_result",
          "data": {
            "text/plain": [
              "<All keys matched successfully>"
            ]
          },
          "metadata": {},
          "execution_count": 12
        }
      ]
    },
    {
      "cell_type": "code",
      "source": [
        "#Defines the loaders for the train and test set\n",
        "test_set_10 = CustomDataset(train_flag=False,sigma=10)\n",
        "test_loader_10 = DataLoader(test_set_10,batch_size=128,shuffle=False,num_workers=128)\n",
        "\n",
        "test_set_25 = CustomDataset(train_flag=False,sigma=25)\n",
        "test_loader_25 = DataLoader(test_set_25,batch_size=128,shuffle=False,num_workers=128)\n",
        "\n",
        "test_set_50 = CustomDataset(train_flag=False,sigma=50)\n",
        "test_loader_50 = DataLoader(test_set_50,batch_size=128,shuffle=False,num_workers=128)"
      ],
      "metadata": {
        "colab": {
          "base_uri": "https://localhost:8080/"
        },
        "id": "Ui1vZqp-IVAy",
        "outputId": "5b8d625d-123a-4980-ecbc-814175bfc8f0"
      },
      "execution_count": null,
      "outputs": [
        {
          "output_type": "stream",
          "name": "stdout",
          "text": [
            "Downloading http://yann.lecun.com/exdb/mnist/train-images-idx3-ubyte.gz\n",
            "Downloading http://yann.lecun.com/exdb/mnist/train-images-idx3-ubyte.gz to MNIST/raw/train-images-idx3-ubyte.gz\n"
          ]
        },
        {
          "output_type": "stream",
          "name": "stderr",
          "text": [
            "100%|██████████| 9912422/9912422 [00:00<00:00, 224360045.14it/s]\n"
          ]
        },
        {
          "output_type": "stream",
          "name": "stdout",
          "text": [
            "Extracting MNIST/raw/train-images-idx3-ubyte.gz to MNIST/raw\n",
            "\n",
            "Downloading http://yann.lecun.com/exdb/mnist/train-labels-idx1-ubyte.gz\n",
            "Downloading http://yann.lecun.com/exdb/mnist/train-labels-idx1-ubyte.gz to MNIST/raw/train-labels-idx1-ubyte.gz\n"
          ]
        },
        {
          "output_type": "stream",
          "name": "stderr",
          "text": [
            "100%|██████████| 28881/28881 [00:00<00:00, 29530885.87it/s]\n"
          ]
        },
        {
          "output_type": "stream",
          "name": "stdout",
          "text": [
            "Extracting MNIST/raw/train-labels-idx1-ubyte.gz to MNIST/raw\n",
            "\n",
            "Downloading http://yann.lecun.com/exdb/mnist/t10k-images-idx3-ubyte.gz\n",
            "Downloading http://yann.lecun.com/exdb/mnist/t10k-images-idx3-ubyte.gz to MNIST/raw/t10k-images-idx3-ubyte.gz\n"
          ]
        },
        {
          "output_type": "stream",
          "name": "stderr",
          "text": [
            "100%|██████████| 1648877/1648877 [00:00<00:00, 78827051.88it/s]\n"
          ]
        },
        {
          "output_type": "stream",
          "name": "stdout",
          "text": [
            "Extracting MNIST/raw/t10k-images-idx3-ubyte.gz to MNIST/raw\n",
            "\n",
            "Downloading http://yann.lecun.com/exdb/mnist/t10k-labels-idx1-ubyte.gz\n",
            "Downloading http://yann.lecun.com/exdb/mnist/t10k-labels-idx1-ubyte.gz to MNIST/raw/t10k-labels-idx1-ubyte.gz\n"
          ]
        },
        {
          "output_type": "stream",
          "name": "stderr",
          "text": [
            "100%|██████████| 4542/4542 [00:00<00:00, 6131486.57it/s]\n",
            "/usr/local/lib/python3.10/dist-packages/torch/utils/data/dataloader.py:557: UserWarning: This DataLoader will create 128 worker processes in total. Our suggested max number of worker in current system is 8, which is smaller than what this DataLoader is going to create. Please be aware that excessive worker creation might get DataLoader running slow or even freeze, lower the worker number to avoid potential slowness/freeze if necessary.\n",
            "  warnings.warn(_create_warning_msg(\n"
          ]
        },
        {
          "output_type": "stream",
          "name": "stdout",
          "text": [
            "Extracting MNIST/raw/t10k-labels-idx1-ubyte.gz to MNIST/raw\n",
            "\n"
          ]
        }
      ]
    },
    {
      "cell_type": "code",
      "source": [
        "test_baseline(criterion_test,device,test_loader_10)"
      ],
      "metadata": {
        "colab": {
          "base_uri": "https://localhost:8080/"
        },
        "id": "VpR01SvROKyF",
        "outputId": "226c07e7-d9b4-4756-da84-58276e89d672"
      },
      "execution_count": null,
      "outputs": [
        {
          "output_type": "stream",
          "name": "stderr",
          "text": [
            "100%|██████████| 79/79 [00:03<00:00, 23.03it/s]"
          ]
        },
        {
          "output_type": "stream",
          "name": "stdout",
          "text": [
            "\n",
            " The PSNR is 30.70983123779297 and the SSIM is 0.8790203928947449\n"
          ]
        },
        {
          "output_type": "stream",
          "name": "stderr",
          "text": [
            "\n"
          ]
        }
      ]
    },
    {
      "cell_type": "code",
      "source": [
        "test_baseline(criterion_test,device,test_loader_25)"
      ],
      "metadata": {
        "colab": {
          "base_uri": "https://localhost:8080/"
        },
        "id": "MY8KIETjOM9e",
        "outputId": "9e3daa0d-c1cc-49f8-ddb6-cdbf033c1bc9"
      },
      "execution_count": null,
      "outputs": [
        {
          "output_type": "stream",
          "name": "stderr",
          "text": [
            "100%|██████████| 79/79 [00:03<00:00, 22.27it/s]"
          ]
        },
        {
          "output_type": "stream",
          "name": "stdout",
          "text": [
            "\n",
            " The PSNR is 22.83251953125 and the SSIM is 0.7880901098251343\n"
          ]
        },
        {
          "output_type": "stream",
          "name": "stderr",
          "text": [
            "\n"
          ]
        }
      ]
    },
    {
      "cell_type": "code",
      "source": [
        "test_baseline(criterion_test,device,test_loader_50)"
      ],
      "metadata": {
        "colab": {
          "base_uri": "https://localhost:8080/"
        },
        "id": "NqmgILYhORZI",
        "outputId": "8c26946e-0afb-4958-af18-9df0b8fed1cc"
      },
      "execution_count": null,
      "outputs": [
        {
          "output_type": "stream",
          "name": "stderr",
          "text": [
            "100%|██████████| 79/79 [00:03<00:00, 21.93it/s]"
          ]
        },
        {
          "output_type": "stream",
          "name": "stdout",
          "text": [
            "\n",
            " The PSNR is 16.912700653076172 and the SSIM is 0.6854562759399414\n"
          ]
        },
        {
          "output_type": "stream",
          "name": "stderr",
          "text": [
            "\n"
          ]
        }
      ]
    },
    {
      "cell_type": "code",
      "source": [
        "test_supervised(criterion_test,model_sup_10,device,test_loader_10)"
      ],
      "metadata": {
        "colab": {
          "base_uri": "https://localhost:8080/"
        },
        "id": "uzjB3xM9Im3H",
        "outputId": "8e3e639e-4a16-4414-ced7-1d1aed89a3d6"
      },
      "execution_count": null,
      "outputs": [
        {
          "output_type": "stream",
          "name": "stderr",
          "text": [
            "100%|██████████| 79/79 [00:04<00:00, 16.36it/s]"
          ]
        },
        {
          "output_type": "stream",
          "name": "stdout",
          "text": [
            "\n",
            " The PSNR is 35.9749641418457 and the SSIM is 0.9908890724182129\n"
          ]
        },
        {
          "output_type": "stream",
          "name": "stderr",
          "text": [
            "\n"
          ]
        }
      ]
    },
    {
      "cell_type": "code",
      "source": [
        "test_supervised(criterion_test,model_sup_25,device,test_loader_25)"
      ],
      "metadata": {
        "colab": {
          "base_uri": "https://localhost:8080/"
        },
        "id": "4c1znrPxI3bU",
        "outputId": "04d68e29-3ed7-42ae-becd-b0c5041b4a5d"
      },
      "execution_count": null,
      "outputs": [
        {
          "output_type": "stream",
          "name": "stderr",
          "text": [
            "100%|██████████| 79/79 [00:05<00:00, 14.22it/s]"
          ]
        },
        {
          "output_type": "stream",
          "name": "stdout",
          "text": [
            "\n",
            " The PSNR is 29.854211807250977 and the SSIM is 0.977897584438324\n"
          ]
        },
        {
          "output_type": "stream",
          "name": "stderr",
          "text": [
            "\n"
          ]
        }
      ]
    },
    {
      "cell_type": "code",
      "source": [
        "test_supervised(criterion_test,model_sup_50,device,test_loader_50)"
      ],
      "metadata": {
        "colab": {
          "base_uri": "https://localhost:8080/"
        },
        "id": "YD3cHYCGW9fO",
        "outputId": "c1c4474d-e5c2-4bae-b7f1-939896cffab4"
      },
      "execution_count": null,
      "outputs": [
        {
          "output_type": "stream",
          "name": "stderr",
          "text": [
            "100%|██████████| 79/79 [00:04<00:00, 16.41it/s]"
          ]
        },
        {
          "output_type": "stream",
          "name": "stdout",
          "text": [
            "\n",
            " The PSNR is 25.676313400268555 and the SSIM is 0.9634179472923279\n"
          ]
        },
        {
          "output_type": "stream",
          "name": "stderr",
          "text": [
            "\n"
          ]
        }
      ]
    },
    {
      "cell_type": "code",
      "source": [
        "test_unsupervised(criterion_test,model_unsup_10,device,test_loader_10,alpha=0.5,sigma=10,T=50)"
      ],
      "metadata": {
        "colab": {
          "base_uri": "https://localhost:8080/"
        },
        "id": "fkVA7lG1XChf",
        "outputId": "7977f429-b048-414d-eb60-fef62a3797c8"
      },
      "execution_count": null,
      "outputs": [
        {
          "output_type": "stream",
          "name": "stderr",
          "text": [
            "100%|██████████| 79/79 [00:36<00:00,  2.14it/s]"
          ]
        },
        {
          "output_type": "stream",
          "name": "stdout",
          "text": [
            "\n",
            " The PSNR is 35.975494384765625 and the SSIM is 0.9905848503112793\n"
          ]
        },
        {
          "output_type": "stream",
          "name": "stderr",
          "text": [
            "\n"
          ]
        }
      ]
    },
    {
      "cell_type": "code",
      "source": [
        "test_unsupervised(criterion_test,model_unsup_25,device,test_loader_25,alpha=0.5,sigma=25,T=50)"
      ],
      "metadata": {
        "colab": {
          "base_uri": "https://localhost:8080/"
        },
        "id": "MSvEIteQX5NU",
        "outputId": "dfed1ef3-dad0-4e8d-d9f0-f1784be75399"
      },
      "execution_count": null,
      "outputs": [
        {
          "output_type": "stream",
          "name": "stderr",
          "text": [
            "100%|██████████| 79/79 [00:36<00:00,  2.14it/s]"
          ]
        },
        {
          "output_type": "stream",
          "name": "stdout",
          "text": [
            "\n",
            " The PSNR is 29.93665313720703 and the SSIM is 0.9598236083984375\n"
          ]
        },
        {
          "output_type": "stream",
          "name": "stderr",
          "text": [
            "\n"
          ]
        }
      ]
    },
    {
      "cell_type": "code",
      "source": [
        "test_unsupervised(criterion_test,model_unsup_50,device,test_loader_50,alpha=0.5,sigma=50,T=50)"
      ],
      "metadata": {
        "colab": {
          "base_uri": "https://localhost:8080/"
        },
        "id": "gY9T_oWtYFkT",
        "outputId": "43943075-3430-4350-d058-61147f1f0907"
      },
      "execution_count": null,
      "outputs": [
        {
          "output_type": "stream",
          "name": "stderr",
          "text": [
            "100%|██████████| 79/79 [00:37<00:00,  2.13it/s]"
          ]
        },
        {
          "output_type": "stream",
          "name": "stdout",
          "text": [
            "\n",
            " The PSNR is 25.417247772216797 and the SSIM is 0.9482941627502441\n"
          ]
        },
        {
          "output_type": "stream",
          "name": "stderr",
          "text": [
            "\n"
          ]
        }
      ]
    },
    {
      "cell_type": "code",
      "source": [
        "display(test_set_10,index=4,model_sup=model_sup_10,model_unsup=model_unsup_10,alpha=0.5,sigma=10,T=50)"
      ],
      "metadata": {
        "colab": {
          "base_uri": "https://localhost:8080/",
          "height": 224
        },
        "id": "t-knrBxkapkV",
        "outputId": "366580df-64c9-47c3-b209-4b80fb2a6c1e"
      },
      "execution_count": null,
      "outputs": [
        {
          "output_type": "display_data",
          "data": {
            "text/plain": [
              "<Figure size 2000x1000 with 4 Axes>"
            ],
            "image/png": "[encoded data removed]"
          },
          "metadata": {}
        }
      ]
    },
    {
      "cell_type": "code",
      "source": [
        "display(test_set_25,index=7,model_sup=model_sup_25,model_unsup=model_unsup_25,alpha=0.5,sigma=25,T=50)"
      ],
      "metadata": {
        "colab": {
          "base_uri": "https://localhost:8080/",
          "height": 224
        },
        "id": "fhyVdyydZBAV",
        "outputId": "a1ffccca-520d-456a-c2d6-5a1a2d4e71df"
      },
      "execution_count": null,
      "outputs": [
        {
          "output_type": "display_data",
          "data": {
            "text/plain": [
              "<Figure size 2000x1000 with 4 Axes>"
            ],
            "image/png": "[encoded data removed]"
          },
          "metadata": {}
        }
      ]
    },
    {
      "cell_type": "code",
      "source": [
        "display(test_set_50,index=8,model_sup=model_sup_50,model_unsup=model_unsup_50,alpha=0.5,sigma=50,T=50)"
      ],
      "metadata": {
        "colab": {
          "base_uri": "https://localhost:8080/",
          "height": 224
        },
        "id": "aUwyLXzEaERH",
        "outputId": "ce4adad8-37e0-4b58-9f95-b8a5d2f43cbd"
      },
      "execution_count": null,
      "outputs": [
        {
          "output_type": "display_data",
          "data": {
            "text/plain": [
              "<Figure size 2000x1000 with 4 Axes>"
            ],
            "image/png": "[encoded data removed]"
          },
          "metadata": {}
        }
      ]
    }
  ]
}