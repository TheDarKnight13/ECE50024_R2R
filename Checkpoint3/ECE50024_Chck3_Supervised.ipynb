{
  "nbformat": 4,
  "nbformat_minor": 0,
  "metadata": {
    "colab": {
      "provenance": [],
      "gpuType": "V100"
    },
    "kernelspec": {
      "name": "python3",
      "display_name": "Python 3"
    },
    "language_info": {
      "name": "python"
    },
    "accelerator": "GPU"
  },
  "cells": [
    {
      "cell_type": "code",
      "execution_count": null,
      "metadata": {
        "id": "d5jLBihcEPmu"
      },
      "outputs": [],
      "source": [
        "#Importing all the libraries\n",
        "import torch\n",
        "import torch.nn as nn\n",
        "import torch.nn.functional as F\n",
        "\n",
        "from torch.utils.data import Dataset,DataLoader\n",
        "from torchvision import models,datasets,transforms\n",
        "\n",
        "from tqdm import tqdm\n",
        "import os\n",
        "from PIL import Image\n",
        "import matplotlib.pyplot as plt\n",
        "import math\n",
        "import random"
      ]
    },
    {
      "cell_type": "code",
      "source": [
        "#Checking if a GPU with CUDA is available\n",
        "device = torch.device(\"cuda\" if torch.cuda.is_available() else \"cpu\")\n",
        "device"
      ],
      "metadata": {
        "colab": {
          "base_uri": "https://localhost:8080/"
        },
        "id": "fkZLiVXBEj6W",
        "outputId": "6a547932-5fbc-49af-ffb3-bc33b5033b0e"
      },
      "execution_count": null,
      "outputs": [
        {
          "output_type": "execute_result",
          "data": {
            "text/plain": [
              "device(type='cuda')"
            ]
          },
          "metadata": {},
          "execution_count": 2
        }
      ]
    },
    {
      "cell_type": "code",
      "source": [
        "#Creating a custom dataset class that generates the noisy counterpart of the clean image and returns both of them\n",
        "class CustomDataset(Dataset):\n",
        "  def __init__(self,train_flag,sigma):\n",
        "    \"\"\"\n",
        "    train_flag is True for the Train dataset and False for the evaluation dataset\n",
        "    sigma is the noise level\n",
        "    \"\"\"\n",
        "    super().__init__()\n",
        "    #Defining the transforms for the train and test datasets\n",
        "    train_transform = transforms.Compose([transforms.RandomRotation(45),\n",
        "                                              transforms.RandomHorizontalFlip(.5),\n",
        "                                              transforms.RandomVerticalFlip(.5),\n",
        "                                              transforms.ToTensor()\n",
        "                                              ])\n",
        "\n",
        "    test_transform = transforms.Compose([transforms.ToTensor()])\n",
        "\n",
        "    #Downloading the train and test datasets\n",
        "    if train_flag:\n",
        "      self.dataset = datasets.MNIST(root=\"\", train = True, download=True, transform=train_transform)\n",
        "\n",
        "    else:\n",
        "      self.dataset = datasets.MNIST(root=\"\", train = False, download=True, transform=test_transform)\n",
        "\n",
        "    self.sigma = sigma\n",
        "\n",
        "  def __len__(self):\n",
        "    return len(self.dataset)\n",
        "\n",
        "  def __getitem__(self, index):\n",
        "    clean_img, _ = self.dataset[index]\n",
        "    #Generating the noisy image\n",
        "    noisy_img = (torch.randn(clean_img.shape)*(self.sigma/255.))+clean_img\n",
        "    return clean_img, noisy_img\n",
        "\n"
      ],
      "metadata": {
        "id": "z2kgtwjtv4LS"
      },
      "execution_count": null,
      "outputs": []
    },
    {
      "cell_type": "code",
      "source": [
        "#Defining a Block of the DnCNN\n",
        "class Block(nn.Module):\n",
        "  def __init__(self,k=3,p=1,c=64):\n",
        "    super().__init__()\n",
        "    self.conv = nn.Conv2d(in_channels=c,out_channels=c,kernel_size=k,padding=p,bias=False) #same padding convolution\n",
        "    self.norm = nn.BatchNorm2d(c) #batch normalization\n",
        "    self.relu = nn.ReLU(inplace=True) #activation function\n",
        "\n",
        "  def forward(self,x):\n",
        "    x = self.conv(x)\n",
        "    x = self.norm(x)\n",
        "    x = self.relu(x)\n",
        "    return x\n"
      ],
      "metadata": {
        "id": "rV1GBAdCHcp8"
      },
      "execution_count": null,
      "outputs": []
    },
    {
      "cell_type": "code",
      "source": [
        "#Defining the DnCNN model\n",
        "class DCNN(nn.Module):\n",
        "  def __init__(self,k=3,p=1,c=64,l=17,in_c=1):\n",
        "    super().__init__()\n",
        "    layers = [nn.Conv2d(in_channels=in_c,out_channels=c,kernel_size=k,padding=p,bias=False), #First same padding convolution layer\n",
        "              nn.ReLU(inplace=True)]\n",
        "    layers.extend([Block(k,p,c) for _ in range(l-2)]) #Adding all the \"Blocks\" to the model\n",
        "    layers.append(nn.Conv2d(in_channels=c,out_channels=in_c,kernel_size=k,padding=p,bias=False)) #Last same padding convolution layer\n",
        "\n",
        "    self.all = nn.Sequential(*layers)\n",
        "\n",
        "  def forward(self,x):\n",
        "    out = self.all(x)\n",
        "    return x-out\n"
      ],
      "metadata": {
        "id": "mtgrkJL2G12e"
      },
      "execution_count": null,
      "outputs": []
    },
    {
      "cell_type": "code",
      "source": [
        "#Function for supervised training of the model\n",
        "def train(criterion,optimizer,model,device,train_loader):\n",
        "  \"\"\"\n",
        "  criterion is the loss function\n",
        "  optimizer is the optimization algorithm used\n",
        "  model is the denoiser model\n",
        "  device is either CPU or GPU(cuda)\n",
        "  train_loader is the DataLoader containing the training dataset\n",
        "  \"\"\"\n",
        "\n",
        "  model.train()\n",
        "  loop = tqdm(train_loader)  #Used to visualized the progress in training\n",
        "  cur_loss = 0.0\n",
        "\n",
        "  for i,(clean,noisy) in enumerate(loop):   #iterating batch-by-batch through the dataset\n",
        "    clean,noisy = clean.to(device), noisy.to(device) #Moving over the data to the \"device\"\n",
        "    clean_pred = model(noisy) #Passing the data through the model\n",
        "    loss = criterion(clean_pred,clean) #Computing the loss\n",
        "\n",
        "    optimizer.zero_grad() #Zeroing all the previous gradients\n",
        "    loss.backward() #Computing the gradients for the current iteration\n",
        "    optimizer.step() #Updating the weights of the model\n",
        "\n",
        "    cur_loss += loss.item() #Keeping track of the loss\n",
        "    loop.set_postfix(loss=cur_loss/(i+1)) #Printing the cumulative loss after each iteration"
      ],
      "metadata": {
        "id": "jnbpFsEcc3GD"
      },
      "execution_count": null,
      "outputs": []
    },
    {
      "cell_type": "code",
      "source": [
        "#Function for testing the model\n",
        "def test(criterion,model,device,test_loader):\n",
        "  \"\"\"\n",
        "  criterion is the function used to compute PSNR\n",
        "  model is the denoiser model\n",
        "  device is either CPU or GPU(cuda)\n",
        "  test_loader is the DataLoader containing the test dataset\n",
        "  \"\"\"\n",
        "\n",
        "  model.eval()\n",
        "  loop = tqdm(test_loader) #Used to visualized the progress in testing\n",
        "  total_mse = []\n",
        "\n",
        "  with torch.no_grad(): #Ensures that the gradients are not computed\n",
        "    for i,(clean,noisy) in enumerate(loop): #iterating batch-by-batch through the dataset\n",
        "      clean,noisy = clean.to(device).float(), noisy.to(device).float() #Moving over the data to the \"device\"\n",
        "      out = model(noisy) #Passing the data through the model\n",
        "\n",
        "      clean_pred = torch.clamp(out,min=0.0,max=1.0) #Clips all the values greater than 1 or less than 0\n",
        "      loss = (criterion(clean_pred,clean).mean(axis=(1,2,3))).tolist() #Computing MSE at an image level\n",
        "      total_mse.extend(loss)\n",
        "\n",
        "  total_mse_tensor = torch.tensor(total_mse)\n",
        "  psnr = (-10*torch.log10(total_mse_tensor)).mean() #Computing the PSNR using the corresponding MSE values\n",
        "\n",
        "  print(f\"The PSNR is {psnr}\")\n",
        "  return psnr.item()\n"
      ],
      "metadata": {
        "id": "XhDbLdQRecZG"
      },
      "execution_count": null,
      "outputs": []
    },
    {
      "cell_type": "code",
      "source": [
        "#Function to computer the number of parameters in a model\n",
        "def number_of_parameters(model):\n",
        "    return sum(params.numel() for params in model.parameters() if params.requires_grad)"
      ],
      "metadata": {
        "id": "m6As_D2VGL9m"
      },
      "execution_count": null,
      "outputs": []
    },
    {
      "cell_type": "code",
      "source": [
        "#Wrapper function to train and evaluate the denoiser model\n",
        "def wrapper(sigma):\n",
        "  print(f\"This is for sigma of {sigma}\")\n",
        "\n",
        "  #Defines the loaders for the train and test set\n",
        "  train_set = CustomDataset(train_flag=True,sigma=sigma)\n",
        "  test_set = CustomDataset(train_flag=False,sigma=sigma)\n",
        "\n",
        "  train_loader = DataLoader(train_set,batch_size=128,shuffle=True,num_workers=128)\n",
        "  test_loader = DataLoader(test_set,batch_size=128,shuffle=False,num_workers=128)\n",
        "\n",
        "  print(f\"The number of images in the train set is {len(train_set)}\")\n",
        "  print(f\"The number of images in the test set is {(len(test_set))}\")\n",
        "\n",
        "  #Defining the model, loss function and optimizer\n",
        "  model = DCNN().to(device)\n",
        "  criterion_train = nn.MSELoss()\n",
        "  criterion_test = nn.MSELoss(reduce=False)\n",
        "  optimizer = torch.optim.Adam(model.parameters(),lr=0.001)\n",
        "  epochs = 5\n",
        "\n",
        "  print(f\"The model has {number_of_parameters(model)} parameters\")\n",
        "\n",
        "  #Computing the PSNR between the noisy and clean image\n",
        "  total_mse = []\n",
        "  with torch.no_grad():\n",
        "      for i,(clean,noisy) in enumerate(test_loader):\n",
        "        clean,noisy = clean.to(device), noisy.to(device)\n",
        "        loss = (criterion_test(noisy,clean).mean(axis=(1,2,3))).tolist()\n",
        "        total_mse.extend(loss)\n",
        "\n",
        "  total_mse_tensor = torch.tensor(total_mse)\n",
        "  psnr = (-10*torch.log10(total_mse_tensor)).mean()\n",
        "  print(f\"The PSNR for an untrained densoiser is {psnr}\")\n",
        "\n",
        "  #Iterating through the epochs\n",
        "  for epoch in range(epochs):\n",
        "    print(f\"The current epoch is {epoch}\")\n",
        "    train(criterion_train,optimizer,model,device,train_loader)\n",
        "    cur_psnr = test(criterion_test,model,device,test_loader)\n",
        "    torch.save(model.state_dict(), \"Supervised\"+str(epoch)+\"_\"+str(round(cur_psnr,2))+\"_\"+ str(sigma) + \".pt\") #Saving the model at each epoch\n"
      ],
      "metadata": {
        "id": "dCfkQ30z89OS"
      },
      "execution_count": null,
      "outputs": []
    },
    {
      "cell_type": "code",
      "source": [
        "#For sigma value of 10\n",
        "wrapper(10)"
      ],
      "metadata": {
        "colab": {
          "base_uri": "https://localhost:8080/"
        },
        "id": "taCzL7B_GoUo",
        "outputId": "54f2c843-4caa-4172-b2b2-d2bdb4bd2688"
      },
      "execution_count": null,
      "outputs": [
        {
          "output_type": "stream",
          "name": "stdout",
          "text": [
            "This is for sigma of 10\n"
          ]
        },
        {
          "output_type": "stream",
          "name": "stderr",
          "text": [
            "/usr/local/lib/python3.10/dist-packages/torch/utils/data/dataloader.py:557: UserWarning: This DataLoader will create 128 worker processes in total. Our suggested max number of worker in current system is 2, which is smaller than what this DataLoader is going to create. Please be aware that excessive worker creation might get DataLoader running slow or even freeze, lower the worker number to avoid potential slowness/freeze if necessary.\n",
            "  warnings.warn(_create_warning_msg(\n",
            "/usr/local/lib/python3.10/dist-packages/torch/nn/_reduction.py:42: UserWarning: size_average and reduce args will be deprecated, please use reduction='none' instead.\n",
            "  warnings.warn(warning.format(ret))\n"
          ]
        },
        {
          "output_type": "stream",
          "name": "stdout",
          "text": [
            "The number of images in the train set is 60000\n",
            "The number of images in the test set is 10000\n",
            "The model has 556032 parameters\n",
            "The PSNR for an untrained densoiser is 28.137075424194336\n",
            "The current epoch is 0\n"
          ]
        },
        {
          "output_type": "stream",
          "name": "stderr",
          "text": [
            "100%|██████████| 469/469 [00:41<00:00, 11.28it/s, loss=0.00425]\n",
            "100%|██████████| 79/79 [00:10<00:00,  7.79it/s]\n"
          ]
        },
        {
          "output_type": "stream",
          "name": "stdout",
          "text": [
            "The PSNR is 31.0057373046875\n",
            "The current epoch is 1\n"
          ]
        },
        {
          "output_type": "stream",
          "name": "stderr",
          "text": [
            "100%|██████████| 469/469 [00:42<00:00, 10.94it/s, loss=0.000837]\n",
            "100%|██████████| 79/79 [00:08<00:00,  9.79it/s]\n"
          ]
        },
        {
          "output_type": "stream",
          "name": "stdout",
          "text": [
            "The PSNR is 34.78983688354492\n",
            "The current epoch is 2\n"
          ]
        },
        {
          "output_type": "stream",
          "name": "stderr",
          "text": [
            "100%|██████████| 469/469 [00:43<00:00, 10.73it/s, loss=0.000433]\n",
            "100%|██████████| 79/79 [00:08<00:00,  9.24it/s]\n"
          ]
        },
        {
          "output_type": "stream",
          "name": "stdout",
          "text": [
            "The PSNR is 35.66501235961914\n",
            "The current epoch is 3\n"
          ]
        },
        {
          "output_type": "stream",
          "name": "stderr",
          "text": [
            "100%|██████████| 469/469 [00:40<00:00, 11.57it/s, loss=0.000382]\n",
            "100%|██████████| 79/79 [00:07<00:00, 10.22it/s]\n"
          ]
        },
        {
          "output_type": "stream",
          "name": "stdout",
          "text": [
            "The PSNR is 35.91305923461914\n",
            "The current epoch is 4\n"
          ]
        },
        {
          "output_type": "stream",
          "name": "stderr",
          "text": [
            "100%|██████████| 469/469 [00:41<00:00, 11.20it/s, loss=0.000376]\n",
            "100%|██████████| 79/79 [00:08<00:00,  9.26it/s]"
          ]
        },
        {
          "output_type": "stream",
          "name": "stdout",
          "text": [
            "The PSNR is 35.98565673828125\n"
          ]
        },
        {
          "output_type": "stream",
          "name": "stderr",
          "text": [
            "\n"
          ]
        }
      ]
    },
    {
      "cell_type": "code",
      "source": [
        "#For sigma value of 25\n",
        "wrapper(25)"
      ],
      "metadata": {
        "colab": {
          "base_uri": "https://localhost:8080/"
        },
        "id": "xdozTF9cGo8z",
        "outputId": "affa7a73-05d1-41de-8657-20482245d0d2"
      },
      "execution_count": null,
      "outputs": [
        {
          "output_type": "stream",
          "name": "stdout",
          "text": [
            "This is for sigma of 25\n",
            "The number of images in the train set is 60000\n",
            "The number of images in the test set is 10000\n",
            "The model has 556032 parameters\n",
            "The PSNR for an untrained densoiser is 20.177148818969727\n",
            "The current epoch is 0\n"
          ]
        },
        {
          "output_type": "stream",
          "name": "stderr",
          "text": [
            "100%|██████████| 469/469 [00:44<00:00, 10.59it/s, loss=0.00855]\n",
            "100%|██████████| 79/79 [00:08<00:00,  9.08it/s]\n"
          ]
        },
        {
          "output_type": "stream",
          "name": "stdout",
          "text": [
            "The PSNR is 28.117584228515625\n",
            "The current epoch is 1\n"
          ]
        },
        {
          "output_type": "stream",
          "name": "stderr",
          "text": [
            "100%|██████████| 469/469 [00:44<00:00, 10.56it/s, loss=0.00195]\n",
            "100%|██████████| 79/79 [00:08<00:00,  9.35it/s]\n"
          ]
        },
        {
          "output_type": "stream",
          "name": "stdout",
          "text": [
            "The PSNR is 29.196447372436523\n",
            "The current epoch is 2\n"
          ]
        },
        {
          "output_type": "stream",
          "name": "stderr",
          "text": [
            "100%|██████████| 469/469 [00:42<00:00, 11.08it/s, loss=0.00153]\n",
            "100%|██████████| 79/79 [00:10<00:00,  7.52it/s]\n"
          ]
        },
        {
          "output_type": "stream",
          "name": "stdout",
          "text": [
            "The PSNR is 29.56302833557129\n",
            "The current epoch is 3\n"
          ]
        },
        {
          "output_type": "stream",
          "name": "stderr",
          "text": [
            "100%|██████████| 469/469 [00:45<00:00, 10.21it/s, loss=0.0014]\n",
            "100%|██████████| 79/79 [00:09<00:00,  8.22it/s]\n"
          ]
        },
        {
          "output_type": "stream",
          "name": "stdout",
          "text": [
            "The PSNR is 29.839235305786133\n",
            "The current epoch is 4\n"
          ]
        },
        {
          "output_type": "stream",
          "name": "stderr",
          "text": [
            "100%|██████████| 469/469 [00:46<00:00, 10.10it/s, loss=0.00134]\n",
            "100%|██████████| 79/79 [00:12<00:00,  6.31it/s]"
          ]
        },
        {
          "output_type": "stream",
          "name": "stdout",
          "text": [
            "The PSNR is 27.445077896118164\n"
          ]
        },
        {
          "output_type": "stream",
          "name": "stderr",
          "text": [
            "\n"
          ]
        }
      ]
    },
    {
      "cell_type": "code",
      "source": [
        "#For sigma value of 50\n",
        "wrapper(50)"
      ],
      "metadata": {
        "colab": {
          "base_uri": "https://localhost:8080/"
        },
        "id": "_cYa0l2i8589",
        "outputId": "7d054fc9-8e98-42e5-a857-65dade518ba2"
      },
      "execution_count": null,
      "outputs": [
        {
          "output_type": "stream",
          "name": "stdout",
          "text": [
            "This is for sigma of 50\n",
            "The number of images in the train set is 60000\n",
            "The number of images in the test set is 10000\n",
            "The model has 556032 parameters\n",
            "The PSNR for an untrained densoiser is 14.158181190490723\n",
            "The current epoch is 0\n"
          ]
        },
        {
          "output_type": "stream",
          "name": "stderr",
          "text": [
            "100%|██████████| 469/469 [00:45<00:00, 10.31it/s, loss=0.011]\n",
            "100%|██████████| 79/79 [00:12<00:00,  6.51it/s]\n"
          ]
        },
        {
          "output_type": "stream",
          "name": "stdout",
          "text": [
            "The PSNR is 24.93718719482422\n",
            "The current epoch is 1\n"
          ]
        },
        {
          "output_type": "stream",
          "name": "stderr",
          "text": [
            "100%|██████████| 469/469 [00:45<00:00, 10.33it/s, loss=0.00413]\n",
            "100%|██████████| 79/79 [00:10<00:00,  7.72it/s]\n"
          ]
        },
        {
          "output_type": "stream",
          "name": "stdout",
          "text": [
            "The PSNR is 24.70265769958496\n",
            "The current epoch is 2\n"
          ]
        },
        {
          "output_type": "stream",
          "name": "stderr",
          "text": [
            "100%|██████████| 469/469 [00:44<00:00, 10.64it/s, loss=0.0039]\n",
            "100%|██████████| 79/79 [00:12<00:00,  6.54it/s]\n"
          ]
        },
        {
          "output_type": "stream",
          "name": "stdout",
          "text": [
            "The PSNR is 25.672752380371094\n",
            "The current epoch is 3\n"
          ]
        },
        {
          "output_type": "stream",
          "name": "stderr",
          "text": [
            "100%|██████████| 469/469 [00:45<00:00, 10.37it/s, loss=0.0038]\n",
            "100%|██████████| 79/79 [00:11<00:00,  6.86it/s]\n"
          ]
        },
        {
          "output_type": "stream",
          "name": "stdout",
          "text": [
            "The PSNR is 25.449844360351562\n",
            "The current epoch is 4\n"
          ]
        },
        {
          "output_type": "stream",
          "name": "stderr",
          "text": [
            "100%|██████████| 469/469 [00:45<00:00, 10.30it/s, loss=0.00375]\n",
            "100%|██████████| 79/79 [00:12<00:00,  6.52it/s]"
          ]
        },
        {
          "output_type": "stream",
          "name": "stdout",
          "text": [
            "The PSNR is 25.572834014892578\n"
          ]
        },
        {
          "output_type": "stream",
          "name": "stderr",
          "text": [
            "\n"
          ]
        }
      ]
    },
    {
      "cell_type": "code",
      "source": [],
      "metadata": {
        "id": "fdLA0O7wC5Ay"
      },
      "execution_count": null,
      "outputs": []
    }
  ]
}